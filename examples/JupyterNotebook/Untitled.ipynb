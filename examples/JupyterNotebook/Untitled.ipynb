{
 "cells": [
  {
   "cell_type": "code",
   "execution_count": 14,
   "metadata": {},
   "outputs": [],
   "source": [
    "import numpy as np\n",
    "import csv\n",
    "import chaospy as cp\n",
    "import os\n",
    "from datetime import datetime\n",
    "import matplotlib.pyplot as plt"
   ]
  },
  {
   "cell_type": "code",
   "execution_count": 6,
   "metadata": {},
   "outputs": [
    {
     "name": "stdout",
     "output_type": "stream",
     "text": [
      "1\n"
     ]
    }
   ],
   "source": [
    "from statsmodels.distributions.empirical_distribution import ECDF\n",
    "import pandas as pd\n",
    "from pandas.core.sparse.frame import SparseDataFrame\n",
    "if not None:\n",
    "    print('1')"
   ]
  },
  {
   "cell_type": "code",
   "execution_count": 15,
   "metadata": {},
   "outputs": [],
   "source": [
    "from scipy.stats import moment"
   ]
  },
  {
   "cell_type": "code",
   "execution_count": 18,
   "metadata": {},
   "outputs": [
    {
     "data": {
      "text/plain": [
       "array([[0., 0.],\n",
       "       [8., 8.]])"
      ]
     },
     "execution_count": 18,
     "metadata": {},
     "output_type": "execute_result"
    }
   ],
   "source": [
    "moment(np.arange(10).reshape(5,2), moment=[1,2])"
   ]
  },
  {
   "cell_type": "code",
   "execution_count": 2,
   "metadata": {},
   "outputs": [],
   "source": [
    "from sklearn.gaussian_process.kernels import (RBF, Matern, RationalQuadratic,\n",
    "                                              ExpSineSquared, DotProduct,\n",
    "                                              ConstantKernel,WhiteKernel)\n"
   ]
  },
  {
   "cell_type": "code",
   "execution_count": 8,
   "metadata": {},
   "outputs": [
    {
     "name": "stdout",
     "output_type": "stream",
     "text": [
      "['__add__', '__array_priority__', '__class__', '__delattr__', '__dict__', '__dir__', '__div__', '__doc__', '__eq__', '__floordiv__', '__format__', '__ge__', '__getattribute__', '__gt__', '__hash__', '__init__', '__init_subclass__', '__le__', '__len__', '__lt__', '__module__', '__mul__', '__ne__', '__neg__', '__new__', '__pow__', '__radd__', '__rdiv__', '__reduce__', '__reduce_ex__', '__repr__', '__rfloordiv__', '__rmul__', '__rpow__', '__rsub__', '__rtruediv__', '__setattr__', '__sizeof__', '__str__', '__sub__', '__subclasshook__', '__truediv__', '__weakref__', '_bnd', '_cdf', '_dep', '_mom', '_pdf', '_ppf', '_str', '_ttr', '_val', 'addattr', 'advance', 'cdf', 'dependencies', 'dependent', 'fwd', 'graph', 'inv', 'length', 'mom', 'pdf', 'prm', 'range', 'sample', 'ttr']\n",
      "2.0\n",
      "8.0\n",
      "48.0\n"
     ]
    }
   ],
   "source": [
    "dist_gamma = cp.Gamma(1,2)\n",
    "print(dir(dist_gamma))\n",
    "for i in range(1,4):\n",
    "    print(dist_gamma.mom(i))"
   ]
  },
  {
   "cell_type": "code",
   "execution_count": 12,
   "metadata": {},
   "outputs": [
    {
     "name": "stdout",
     "output_type": "stream",
     "text": [
      "[0.2 0.4 0.6 0.8]\n",
      "[2. 4. 6. 8.]\n",
      "[0.2 0.4 0.6 0.8]\n"
     ]
    }
   ],
   "source": [
    "distribution = cp.Uniform(0,10)\n",
    "q = np.linspace(0,1,6)[1:-1]\n",
    "print(np.around(q,4))\n",
    "q_inv = distribution.inv(q)\n",
    "print(np.around(q_inv, 4))\n",
    "q_inv_fwd = distribution.fwd(q_inv)\n",
    "print(np.around(q_inv_fwd, 4))"
   ]
  },
  {
   "cell_type": "code",
   "execution_count": 19,
   "metadata": {
    "scrolled": false
   },
   "outputs": [
    {
     "name": "stdout",
     "output_type": "stream",
     "text": [
      "(10001, 3)\n",
      "10001\n",
      "[0. 0. 0.] [5.00050005e+00 6.65682366e-06 2.66454656e-07] [0.00050005 0.         0.        ]\n"
     ]
    },
    {
     "data": {
      "image/png": "[encoded data removed]",
      "text/plain": [
       "<Figure size 432x288 with 1 Axes>"
      ]
     },
     "metadata": {
      "needs_background": "light"
     },
     "output_type": "display_data"
    }
   ],
   "source": [
    "f = np.load('time.npy')\n",
    "print(f.shape)\n",
    "print(len(f))\n",
    "print(f[0],f[-1],f[1]-f[0])\n",
    "plt.plot(f[:,0],f[:,1:3]);"
   ]
  },
  {
   "cell_type": "code",
   "execution_count": 20,
   "metadata": {},
   "outputs": [
    {
     "name": "stdout",
     "output_type": "stream",
     "text": [
      "2.5378329644035045\n"
     ]
    },
    {
     "data": {
      "image/png": "[encoded data removed]",
      "text/plain": [
       "<Figure size 432x288 with 1 Axes>"
      ]
     },
     "metadata": {
      "needs_background": "light"
     },
     "output_type": "display_data"
    }
   ],
   "source": [
    "t = np.load('frequency.npy')\n",
    "# print(t.shape)\n",
    "# print(t[0],t[-1],t[1]-t[0])\n",
    "plt.plot(t[:,0],t[:,1:3]);\n",
    "print(4*np.std(t[:,1])**2)"
   ]
  },
  {
   "cell_type": "code",
   "execution_count": 19,
   "metadata": {},
   "outputs": [
    {
     "name": "stdout",
     "output_type": "stream",
     "text": [
      "1**2 * RBF(length_scale=100)\n"
     ]
    }
   ],
   "source": [
    "dir(RBF)\n",
    "kernel = 1.0 * RBF(length_scale=100.0, length_scale_bounds=(1e-2, 1e3))\n",
    "print(kernel)\n",
    "# RBF.get_params()\n",
    "# print(RBF.__str__)"
   ]
  },
  {
   "cell_type": "code",
   "execution_count": 31,
   "metadata": {},
   "outputs": [
    {
     "name": "stdout",
     "output_type": "stream",
     "text": [
      "(3,)\n",
      "(3, 1)\n"
     ]
    }
   ],
   "source": [
    "a = np.arange(3).T\n",
    "print(a.shape)\n",
    "b = a[:,np.newaxis]\n",
    "print(b.shape)"
   ]
  },
  {
   "cell_type": "code",
   "execution_count": 8,
   "metadata": {},
   "outputs": [
    {
     "name": "stdout",
     "output_type": "stream",
     "text": [
      "<class 'chaospy.distributions.cores.normal'>\n",
      "<class 'chaospy.distributions.joint.Iid'>\n"
     ]
    }
   ],
   "source": [
    "dist_x = cp.Iid(cp.Uniform(),3)\n",
    "print(type(cp.Normal()))\n",
    "print(type(dist_x))"
   ]
  },
  {
   "cell_type": "code",
   "execution_count": 6,
   "metadata": {},
   "outputs": [],
   "source": [
    "def __num2str__(n):\n",
    "    if n<100:\n",
    "        return '{:2d}'.format(n)\n",
    "    else:\n",
    "        __str ='{:.0E}'.format(n) \n",
    "        return __str[0]+'E'+__str[-1] \n",
    "a = [100,10000,1000000]\n",
    "b = list(map(__num2str__, a))"
   ]
  },
  {
   "cell_type": "code",
   "execution_count": 12,
   "metadata": {},
   "outputs": [
    {
     "name": "stdout",
     "output_type": "stream",
     "text": [
      "(3,)\n",
      "(3, 100)\n",
      "(100,)\n",
      "(3, 100)\n"
     ]
    }
   ],
   "source": [
    "dataset = np.load('Train_Free_MCS1_DoE1.npy')\n",
    "x, y, z = dataset\n",
    "print(dataset.shape)\n",
    "print(x.shape)\n",
    "print(y.shape)\n",
    "print(z.shape)"
   ]
  },
  {
   "cell_type": "code",
   "execution_count": 44,
   "metadata": {},
   "outputs": [
    {
     "name": "stdout",
     "output_type": "stream",
     "text": [
      "J(Uniform(0,1),Uniform(0,1),Uniform(0,1))\n",
      "[[0.54793665 0.4853775  0.38371563 ... 0.37988231 0.72600182 0.53662859]\n",
      " [0.21406472 0.64234094 0.44145543 ... 0.41955273 0.29831192 0.44337971]\n",
      " [0.29208272 0.88059741 0.51833234 ... 0.26899498 0.42106985 0.89066218]]\n"
     ]
    }
   ],
   "source": [
    "dist_x = cp.J(cp.Uniform(),cp.Uniform(),cp.Uniform())\n",
    "samples = dist_x.sample(10000,rule='R')\n",
    "print(dist_x)\n",
    "print(samples)"
   ]
  },
  {
   "cell_type": "code",
   "execution_count": 7,
   "metadata": {},
   "outputs": [
    {
     "name": "stdout",
     "output_type": "stream",
     "text": [
      "['1E2', '1E4', '1E6']\n"
     ]
    }
   ],
   "source": [
    "print(b)"
   ]
  },
  {
   "cell_type": "code",
   "execution_count": 30,
   "metadata": {},
   "outputs": [
    {
     "ename": "SyntaxError",
     "evalue": "invalid syntax (<ipython-input-30-602cd5600dcf>, line 6)",
     "output_type": "error",
     "traceback": [
      "\u001b[0;36m  File \u001b[0;32m\"<ipython-input-30-602cd5600dcf>\"\u001b[0;36m, line \u001b[0;32m6\u001b[0m\n\u001b[0;31m    print(lb)\u001b[0m\n\u001b[0m        ^\u001b[0m\n\u001b[0;31mSyntaxError\u001b[0m\u001b[0;31m:\u001b[0m invalid syntax\n"
     ]
    }
   ],
   "source": [
    "a = np.arange(4).reshape(2,2)\n",
    "b = np.arange(4).reshape(2,2)\n",
    "# la = list(*(a[0,:])\n",
    "lb = list(*(b[:,0])\n",
    "# print(la)\n",
    "print(lb)\n",
    "# print(la+lb)"
   ]
  },
  {
   "cell_type": "code",
   "execution_count": 16,
   "metadata": {},
   "outputs": [
    {
     "name": "stdout",
     "output_type": "stream",
     "text": [
      "/Users/jinsongliu/BoxSync/MUSELab/museuq/examples\n",
      "(10, 9)\n",
      "(100, 6)\n"
     ]
    }
   ],
   "source": [
    "print(os.getcwd())\n",
    "a = np.loadtxt('DoE_MC_R_10.txt')\n",
    "b = np.loadtxt('/Users/jinsongliu/External/MUSE_UQ_DATA/Ishigami/Data/DoE_MC_R_10.txt')\n",
    "print(a.shape)\n",
    "a = np.load('DoE_MC_R_1E2.npy')\n",
    "print(a.shape)"
   ]
  },
  {
   "cell_type": "code",
   "execution_count": 2,
   "metadata": {},
   "outputs": [
    {
     "name": "stdout",
     "output_type": "stream",
     "text": [
      "10\n",
      "2\n",
      "[[0 1 2 3 4]\n",
      " [5 6 7 8 9]]\n",
      "[0 1 2 3 4]\n",
      "[5 6 7 8 9]\n",
      "[None, '1', 'h']\n"
     ]
    }
   ],
   "source": [
    "a = np.arange(10).reshape(2,5)\n",
    "print(a.size)\n",
    "print(len(a))\n",
    "print(a)\n",
    "for ia in a:\n",
    "    print(ia)\n",
    "print([None,'1','h'])"
   ]
  },
  {
   "cell_type": "code",
   "execution_count": 15,
   "metadata": {},
   "outputs": [
    {
     "name": "stdout",
     "output_type": "stream",
     "text": [
      "2019-08-27 14:51:02.303020\n",
      "27/08/2019 14:51:02\n"
     ]
    }
   ],
   "source": [
    "now = datetime.now()\n",
    "print(datetime.now())\n",
    "dt_string = now.strftime(\"%d/%m/%Y %H:%M:%S\")\n",
    "print(dt_string)"
   ]
  },
  {
   "cell_type": "code",
   "execution_count": 42,
   "metadata": {},
   "outputs": [
    {
     "name": "stdout",
     "output_type": "stream",
     "text": [
      "[None, 1, 2, 3]\n"
     ]
    }
   ],
   "source": [
    "a = None\n",
    "b = ['a','c']\n",
    "c = np.array([1,2,3])\n",
    "l1 = [None]\n",
    "l2 = list(c)\n",
    "l = l1 + l2\n",
    "print(l)"
   ]
  },
  {
   "cell_type": "code",
   "execution_count": 37,
   "metadata": {},
   "outputs": [
    {
     "ename": "Error",
     "evalue": "iterable expected, not int",
     "output_type": "error",
     "traceback": [
      "\u001b[0;31m---------------------------------------------------------------------------\u001b[0m",
      "\u001b[0;31mError\u001b[0m                                     Traceback (most recent call last)",
      "\u001b[0;32m<ipython-input-37-048e6f9fab51>\u001b[0m in \u001b[0;36m<module>\u001b[0;34m\u001b[0m\n\u001b[1;32m      1\u001b[0m \u001b[0;32mwith\u001b[0m \u001b[0mopen\u001b[0m\u001b[0;34m(\u001b[0m\u001b[0;34m\"result.txt\"\u001b[0m\u001b[0;34m,\u001b[0m \u001b[0;34m\"wb\"\u001b[0m\u001b[0;34m)\u001b[0m \u001b[0;32mas\u001b[0m \u001b[0mresult\u001b[0m\u001b[0;34m:\u001b[0m\u001b[0;34m\u001b[0m\u001b[0;34m\u001b[0m\u001b[0m\n\u001b[1;32m      2\u001b[0m     \u001b[0mwriter\u001b[0m \u001b[0;34m=\u001b[0m \u001b[0mcsv\u001b[0m\u001b[0;34m.\u001b[0m\u001b[0mwriter\u001b[0m\u001b[0;34m(\u001b[0m\u001b[0mresult\u001b[0m\u001b[0;34m,\u001b[0m \u001b[0mdelimiter\u001b[0m\u001b[0;34m=\u001b[0m\u001b[0;34m';'\u001b[0m\u001b[0;34m)\u001b[0m\u001b[0;34m\u001b[0m\u001b[0;34m\u001b[0m\u001b[0m\n\u001b[0;32m----> 3\u001b[0;31m     \u001b[0mwriter\u001b[0m\u001b[0;34m.\u001b[0m\u001b[0mwriterows\u001b[0m\u001b[0;34m(\u001b[0m\u001b[0ml\u001b[0m\u001b[0;34m)\u001b[0m\u001b[0;34m\u001b[0m\u001b[0;34m\u001b[0m\u001b[0m\n\u001b[0m",
      "\u001b[0;31mError\u001b[0m: iterable expected, not int"
     ]
    }
   ],
   "source": [
    "with open(\"result.txt\", \"wb\") as result:\n",
    "    writer = csv.writer(result, delimiter=';')\n",
    "    writer.writerows(l)"
   ]
  },
  {
   "cell_type": "code",
   "execution_count": 43,
   "metadata": {},
   "outputs": [],
   "source": [
    "with open('test1.text','w') as filein:\n",
    "    filein.write('\\t'.join(map(repr, l)))\n",
    "    "
   ]
  },
  {
   "cell_type": "code",
   "execution_count": 39,
   "metadata": {},
   "outputs": [
    {
     "name": "stdout",
     "output_type": "stream",
     "text": [
      "1\t2\t3\tNone\n",
      "['1', '2', '3', 'None']\n"
     ]
    },
    {
     "ename": "TypeError",
     "evalue": "ufunc 'multiply' did not contain a loop with signature matching types dtype('<U21') dtype('<U21') dtype('<U21')",
     "output_type": "error",
     "traceback": [
      "\u001b[0;31m---------------------------------------------------------------------------\u001b[0m",
      "\u001b[0;31mTypeError\u001b[0m                                 Traceback (most recent call last)",
      "\u001b[0;32m<ipython-input-39-74cc000005db>\u001b[0m in \u001b[0;36m<module>\u001b[0;34m\u001b[0m\n\u001b[1;32m      4\u001b[0m         \u001b[0mprint\u001b[0m\u001b[0;34m(\u001b[0m\u001b[0mline\u001b[0m\u001b[0;34m)\u001b[0m\u001b[0;34m\u001b[0m\u001b[0;34m\u001b[0m\u001b[0m\n\u001b[1;32m      5\u001b[0m         \u001b[0mprint\u001b[0m\u001b[0;34m(\u001b[0m\u001b[0mx\u001b[0m\u001b[0;34m)\u001b[0m\u001b[0;34m\u001b[0m\u001b[0;34m\u001b[0m\u001b[0m\n\u001b[0;32m----> 6\u001b[0;31m         \u001b[0my\u001b[0m \u001b[0;34m=\u001b[0m \u001b[0mnp\u001b[0m\u001b[0;34m.\u001b[0m\u001b[0marray\u001b[0m\u001b[0;34m(\u001b[0m\u001b[0mx\u001b[0m\u001b[0;34m[\u001b[0m\u001b[0;36m2\u001b[0m\u001b[0;34m]\u001b[0m\u001b[0;34m)\u001b[0m \u001b[0;34m*\u001b[0m \u001b[0;36m2\u001b[0m\u001b[0;34m\u001b[0m\u001b[0;34m\u001b[0m\u001b[0m\n\u001b[0m\u001b[1;32m      7\u001b[0m         \u001b[0mprint\u001b[0m\u001b[0;34m(\u001b[0m\u001b[0my\u001b[0m\u001b[0;34m)\u001b[0m\u001b[0;34m\u001b[0m\u001b[0;34m\u001b[0m\u001b[0m\n\u001b[1;32m      8\u001b[0m         \u001b[0mprint\u001b[0m\u001b[0;34m(\u001b[0m\u001b[0mlen\u001b[0m\u001b[0;34m(\u001b[0m\u001b[0mline\u001b[0m\u001b[0;34m)\u001b[0m\u001b[0;34m)\u001b[0m\u001b[0;34m\u001b[0m\u001b[0;34m\u001b[0m\u001b[0m\n",
      "\u001b[0;31mTypeError\u001b[0m: ufunc 'multiply' did not contain a loop with signature matching types dtype('<U21') dtype('<U21') dtype('<U21')"
     ]
    }
   ],
   "source": [
    "with open('test1.text','r') as filein:\n",
    "    for line in filein:\n",
    "        x = line.split('\\t')\n",
    "        print(line)\n",
    "        print(x)\n",
    "        y = np.array(x[2]) * 2\n",
    "        print(y)\n",
    "        print(len(line))\n"
   ]
  },
  {
   "cell_type": "code",
   "execution_count": null,
   "metadata": {},
   "outputs": [],
   "source": []
  }
 ],
 "metadata": {
  "kernelspec": {
   "display_name": "Python 3",
   "language": "python",
   "name": "python3"
  },
  "language_info": {
   "codemirror_mode": {
    "name": "ipython",
    "version": 3
   },
   "file_extension": ".py",
   "mimetype": "text/x-python",
   "name": "python",
   "nbconvert_exporter": "python",
   "pygments_lexer": "ipython3",
   "version": "3.7.4"
  }
 },
 "nbformat": 4,
 "nbformat_minor": 2
}
