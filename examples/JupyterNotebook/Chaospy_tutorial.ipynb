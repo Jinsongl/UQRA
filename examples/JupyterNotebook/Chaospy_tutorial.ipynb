{
 "cells": [
  {
   "cell_type": "code",
   "execution_count": 1,
   "metadata": {},
   "outputs": [],
   "source": [
    "%matplotlib notebook\n",
    "import chaospy as cp\n",
    "import numpy as np\n",
    "import matplotlib.pyplot as plt\n",
    "from mpl_toolkits.mplot3d import Axes3D\n",
    "from matplotlib import cm\n",
    "from numpy import linalg as LA\n",
    "import pandas as pd\n",
    "import seaborn as sns\n",
    "import itertools\n",
    "import scipy.stats as stats\n"
   ]
  },
  {
   "cell_type": "code",
   "execution_count": 2,
   "metadata": {},
   "outputs": [],
   "source": [
    "def foo2(coord, param):\n",
    "    return param[0] * np.e ** (-param[1] * coord)\n",
    "def foo1(coord, param):\n",
    "    return param * np.e ** (-param * coord)"
   ]
  },
  {
   "cell_type": "code",
   "execution_count": 2,
   "metadata": {},
   "outputs": [
    {
     "name": "stdout",
     "output_type": "stream",
     "text": [
      "(2, 10)\n"
     ]
    }
   ],
   "source": [
    "z = np.arange(10)\n",
    "d = np.array([z,z])\n",
    "print(d.shape)"
   ]
  },
  {
   "cell_type": "code",
   "execution_count": 21,
   "metadata": {},
   "outputs": [
    {
     "name": "stdout",
     "output_type": "stream",
     "text": [
      "[3.63 0.92 2.43 3.47 1.65 2.1  4.49 2.96 2.84 0.36]\n",
      "[1.93 1.61 3.16 1.97 2.35 6.23 1.82 3.14 2.14 2.25]\n",
      "[1.93 0.92 2.43 1.97 1.65 2.1  1.82 3.14 2.84 0.36]\n",
      "0.6732524353557928\n"
     ]
    }
   ],
   "source": [
    "mu_Hs    = 0.77\n",
    "sigma_Hs = 0.6565\n",
    "Hs_shape = 1.503\n",
    "Hs_scale = 2.691\n",
    "h0       = 2.9\n",
    "x        = 10\n",
    "dist1    = cp.LogNormal(mu_Hs, sigma_Hs)\n",
    "\n",
    "samples1 = np.random.lognormal(mu_Hs, sigma_Hs, x)\n",
    "samples2 = np.random.weibull(Hs_shape,x) * Hs_scale\n",
    "samples0 = np.where(samples1<=h0,samples1, samples2)\n",
    "cdf_h0   = dist1.cdf(h0)\n",
    "print(np.around(samples1,2))\n",
    "print(np.around(samples2,2))\n",
    "print(np.around(samples0,2))\n",
    "print(cdf_h0)\n",
    "\n"
   ]
  },
  {
   "cell_type": "code",
   "execution_count": 24,
   "metadata": {},
   "outputs": [
    {
     "name": "stdout",
     "output_type": "stream",
     "text": [
      "['__add__', '__array_priority__', '__class__', '__delattr__', '__dict__', '__dir__', '__div__', '__doc__', '__eq__', '__floordiv__', '__format__', '__ge__', '__getattribute__', '__gt__', '__hash__', '__init__', '__init_subclass__', '__le__', '__len__', '__lt__', '__module__', '__mul__', '__ne__', '__neg__', '__new__', '__pow__', '__radd__', '__rdiv__', '__reduce__', '__reduce_ex__', '__repr__', '__rfloordiv__', '__rmul__', '__rpow__', '__rsub__', '__rtruediv__', '__setattr__', '__sizeof__', '__str__', '__sub__', '__subclasshook__', '__truediv__', '__weakref__', '_bnd', '_cdf', '_fwd_cache', '_inv_cache', '_mom', '_pdf', '_ppf', '_repr', '_ttr', 'cdf', 'fwd', 'inv', 'mom', 'pdf', 'prm', 'range', 'sample', 'ttr']\n"
     ]
    }
   ],
   "source": [
    "\n",
    "dist_u = cp.Uniform(0,1)\n",
    "u_samples1 = dist_u.sample(100)\n",
    "u_samples2 = dist_u.sample(100)\n",
    "u9 = np.array([u_samples1,u_samples2])\n",
    "print(dir(dist_u))"
   ]
  },
  {
   "cell_type": "code",
   "execution_count": 7,
   "metadata": {},
   "outputs": [],
   "source": [
    "def dist_Hs(Hs):\n",
    "    mu_Hs    = 0.77\n",
    "    simga_Hs = 0.6565\n",
    "    dist_Hs1 = cp.LogNormal(mu_Hs, simga_Hs)\n",
    "    Hs_shape = 1.503\n",
    "    Hs_scale = 2.691\n",
    "    dist_Hs2 = cp.Weibull(Hs_shape,Hs_scale)\n",
    "    if Hs <= 2.9:\n",
    "        return dist_Hs1\n",
    "    else:\n",
    "        return dist_Hs2\n",
    "def dist_Tp(Hs):\n",
    "    a1 = 1.134\n",
    "    a2 = 0.892\n",
    "    a3 = 0.225\n",
    "    b1 = 0.005\n",
    "    b2 = 0.120\n",
    "    b3 = 0.455\n",
    "    mu_tp = a1 + a2* Hs**a3 \n",
    "    sigma_tp = np.sqrt(b1 + b2*np.exp(-b3*Hs))\n",
    "    return cp.LogNormal(mu_tp, sigma_tp)\n",
    "\n",
    "    "
   ]
  },
  {
   "cell_type": "code",
   "execution_count": null,
   "metadata": {},
   "outputs": [],
   "source": []
  },
  {
   "cell_type": "code",
   "execution_count": 3,
   "metadata": {},
   "outputs": [],
   "source": [
    "coord = np.linspace(0,10,100)\n",
    "dist = cp.J(cp.Uniform(1,2), cp.Uniform(1,2))\n",
    "# dist = cp.Uniform(1,2)\n",
    "dist_normal = cp.Normal(0,1)\n",
    "dist_gamma = cp.Gamma()\n"
   ]
  },
  {
   "cell_type": "code",
   "execution_count": 21,
   "metadata": {},
   "outputs": [],
   "source": [
    "def coefficients(self):\n",
    "    \"\"\"Polynomial coefficients.\"\"\"\n",
    "    out = np.array([self.A[key] for key in self.keys])\n",
    "    out = np.rollaxis(out, -1)\n",
    "    return out"
   ]
  },
  {
   "cell_type": "code",
   "execution_count": 25,
   "metadata": {},
   "outputs": [
    {
     "name": "stdout",
     "output_type": "stream",
     "text": [
      "[1.0, q0, q0^2-1.0]\n",
      "[1. 1. 2.]\n",
      "[[ 1.  0.  0.]\n",
      " [ 0.  1.  0.]\n",
      " [-1.  0.  1.]]\n"
     ]
    }
   ],
   "source": [
    "poly, norm = cp.orth_ttr(2, cp.Normal(), retall=True)\n",
    "print(poly)\n",
    "print(norm)\n",
    "print(coefficients(poly))\n",
    "# print(poly[2].coeffs())\n",
    "# print(dir(poly))\n"
   ]
  },
  {
   "cell_type": "code",
   "execution_count": 13,
   "metadata": {},
   "outputs": [
    {
     "name": "stdout",
     "output_type": "stream",
     "text": [
      "q0\n",
      "q0^2+q0q1+2\n"
     ]
    },
    {
     "ename": "AttributeError",
     "evalue": "'Poly' object has no attribute 'coefficients'",
     "output_type": "error",
     "traceback": [
      "\u001b[0;31m---------------------------------------------------------------------------\u001b[0m",
      "\u001b[0;31mAttributeError\u001b[0m                            Traceback (most recent call last)",
      "\u001b[0;32m<ipython-input-13-26cce3715d0a>\u001b[0m in \u001b[0;36m<module>\u001b[0;34m\u001b[0m\n\u001b[1;32m      3\u001b[0m \u001b[0mprint\u001b[0m\u001b[0;34m(\u001b[0m\u001b[0mx\u001b[0m\u001b[0;34m**\u001b[0m\u001b[0;36m2\u001b[0m \u001b[0;34m+\u001b[0m \u001b[0mx\u001b[0m\u001b[0;34m*\u001b[0m\u001b[0my\u001b[0m \u001b[0;34m+\u001b[0m \u001b[0;36m2\u001b[0m\u001b[0;34m)\u001b[0m\u001b[0;34m\u001b[0m\u001b[0;34m\u001b[0m\u001b[0m\n\u001b[1;32m      4\u001b[0m \u001b[0mpoly\u001b[0m \u001b[0;34m=\u001b[0m \u001b[0;34m-\u001b[0m\u001b[0;36m3\u001b[0m\u001b[0;34m*\u001b[0m\u001b[0mx\u001b[0m \u001b[0;34m+\u001b[0m \u001b[0mx\u001b[0m\u001b[0;34m**\u001b[0m\u001b[0;36m2\u001b[0m \u001b[0;34m+\u001b[0m \u001b[0my\u001b[0m\u001b[0;34m\u001b[0m\u001b[0;34m\u001b[0m\u001b[0m\n\u001b[0;32m----> 5\u001b[0;31m \u001b[0mprint\u001b[0m\u001b[0;34m(\u001b[0m\u001b[0mpoly\u001b[0m\u001b[0;34m.\u001b[0m\u001b[0mcoefficients\u001b[0m\u001b[0;34m(\u001b[0m\u001b[0;34m)\u001b[0m\u001b[0;34m)\u001b[0m\u001b[0;34m\u001b[0m\u001b[0;34m\u001b[0m\u001b[0m\n\u001b[0m",
      "\u001b[0;31mAttributeError\u001b[0m: 'Poly' object has no attribute 'coefficients'"
     ]
    }
   ],
   "source": [
    "print(cp.Poly({(1,): np.array(1)}))\n",
    "x, y = cp.variable(2)\n",
    "print(x**2 + x*y + 2)\n",
    "poly = -3*x + x**2 + y\n",
    "print(poly.coefficients())"
   ]
  },
  {
   "cell_type": "code",
   "execution_count": 5,
   "metadata": {},
   "outputs": [
    {
     "name": "stdout",
     "output_type": "stream",
     "text": [
      "[[-7.5  0.   7.5]] [0.16666667 0.66666667 0.16666667]\n",
      "[-1.73205081  0.          1.73205081] [0.41777138 1.67108552 0.41777138]\n",
      "[-1.22474487  0.          1.22474487] [0.29540898 1.1816359  0.29540898]\n"
     ]
    }
   ],
   "source": [
    "# x,w = cp.generate_quadrature(2,dist_normal)\n",
    "# print(x,w)\n",
    "coord1d, weight1d = cp.generate_quadrature(2,dist_normal)\n",
    "print(coord1d, weight1d)\n",
    "coord1d, weight1d = np.polynomial.hermite_e.hermegauss(3)  # “Probabilists’\"\n",
    "print(coord1d, weight1d)\n",
    "coord1d, weight1d = np.polynomial.hermite.hermgauss(3) \n",
    "print(coord1d, weight1d)"
   ]
  },
  {
   "cell_type": "code",
   "execution_count": 6,
   "metadata": {},
   "outputs": [
    {
     "name": "stdout",
     "output_type": "stream",
     "text": [
      "[[0 1 2]\n",
      " [3 4 5]\n",
      " [6 7 8]]\n",
      "(3, 3)\n",
      "[0 1 2]\n",
      "[3 4 5]\n",
      "[6 7 8]\n"
     ]
    }
   ],
   "source": [
    "a = np.arange(9).reshape((3,3))\n",
    "print(a)\n",
    "print(a.shape)\n",
    "for ia in a:\n",
    "    print(ia)"
   ]
  },
  {
   "cell_type": "code",
   "execution_count": 42,
   "metadata": {
    "scrolled": false
   },
   "outputs": [
    {
     "name": "stdout",
     "output_type": "stream",
     "text": [
      "-5.918738058796369e-05q0^3-2.088826362946916e-05q0^2q1+0.0003096813295569256q0^2+0.010181960263414934q0q1^2-0.02342562442803808q1^3-0.03515917985671702q0q1+0.10530739328052241q1^2+0.029817592156953343q0-0.15432263300551433q1+0.07382176526837383\n",
      "_coefffs:\n",
      "[ 0.0019 -0.007   0.0013  0.0152 -0.0047  0.     -0.0234  0.0102 -0.\n",
      " -0.0001]\n",
      "coeffs:\n",
      "[ 7.380e-02 -1.543e-01  2.980e-02  1.053e-01 -3.520e-02 -2.340e-02\n",
      "  1.020e-02  3.000e-04 -0.000e+00 -1.000e-04]\n"
     ]
    }
   ],
   "source": [
    "# samples = dist.sample(50)\n",
    "# evals = np.array([foo(coord, sample) for sample in samples.T]).T\n",
    "# plt.plot(coord, evals)\n",
    "# plt.show()\n",
    "# evals = [foo(coord, sample) for sample in samples.T]\n",
    "\n",
    "orthPoly = cp.orth_ttr(3, dist)\n",
    "# print(orthPoly.dim)\n",
    "# print(len(orthPoly))\n",
    "\n",
    "# # Monte Carlo simulaiton\n",
    "\n",
    "samples = dist.sample(1000, 'H')\n",
    "# print('{}:{}'.format('samples shape',samples.shape))\n",
    "evals = np.array([foo2(coord, sample) for sample in samples.T])\n",
    "# print(np.array(foo(coord, [0.5,0.5])).shape)\n",
    "# print(evals.shape)\n",
    "# expected = np.mean(evals,0)\n",
    "# deviation = np.std(evals,0)\n",
    "\n",
    "# # Point Collocation method\n",
    "\n",
    "# foo_hat = cp.fit_regression(orthPoly, samples, evals)\n",
    "foo_hat, _coefffs = cp.fit_regression(orthPoly, samples, evals[:,50:53], retall=True)\n",
    "# print('_coefffs shape: {}'.format(_coefffs.shape))\n",
    "# print('len(foo_hat): {}'.format(len(foo_hat)))\n",
    "# print(_coefffs[:,0])\n",
    "# print(len(foo_hat[0]))\n",
    "# print(foo_hat[0].coeffs(),'\\n',foo_hat[1].coeffs())\n",
    "# print(dir(foo_hat[0]))\n",
    "print(foo_hat[0])\n",
    "print('_coefffs:\\n{}'.format(np.around(_coefffs[:,0],4)))\n",
    "print('coeffs:\\n{}'.format(np.around(foo_hat.coeffs()[0],4)))\n",
    "# print('dim:\\n{}'.format(foo_hat.dim))\n",
    "# print('keys:\\n{}'.format(foo_hat.keys))\n",
    "# print('shape:\\n{}'.format(foo_hat.shape))\n",
    "# print(len(foo_hat))\n",
    "# foo_hat0 = foo_hat\n",
    "\n",
    "# print(cp.around(foo_hat0, 3))\n",
    "\n",
    "# print('foo_hat0.dim = {}'.format(foo_hat0.dim))\n",
    "# y = np.array([foo_hat(*isample) for isample in samples.T])\n",
    "# print(y)\n",
    "# print(cp.around((foo_hat0())))\n",
    "\n",
    "# y = foo_hat0(samples.T)\n",
    "# y = np.array([foo_hat0(*isample) for isample in samples.T])\n",
    "# print('y.shape = {}'.format(y.shape))\n",
    "# print(y)\n",
    "\n",
    "# # print(samples.shape)\n",
    "# y = foo_hat(*samples)\n",
    "# print(y)\n",
    "\n",
    "# # how to print coeffs\n",
    "\n",
    "# # Pseudo-spectral Projection\n",
    "\n",
    "# x,w = cp.generate_quadrature(8,dist,rule='C')\n",
    "# evals = [foo(coord, val) for val in x.T]\n",
    "# # foo_hat = cp.fit_quadrature(orthPoly, x, w, evals)\n",
    "\n",
    "# print(x.shape)\n",
    "# print(w.shape)\n",
    "# print(np.asarray(evals).shape)\n",
    "# y_hat = foo_hat(*samples)\n",
    "# print(y_hat.shape)\n",
    "\n",
    "\n",
    "# cp.seed(1000)\n",
    "# dist = cp.Normal()\n",
    "# x = cp.variable(1)\n",
    "# poly = cp.Poly([x,x**2])\n",
    "# print(poly)\n",
    "# qoi_dist = cp.QoI_Dist(poly, dist)\n"
   ]
  },
  {
   "cell_type": "code",
   "execution_count": 56,
   "metadata": {},
   "outputs": [],
   "source": [
    "def foo(x):\n",
    "    return 0.5*x[0] **2 - 3*x[1] **3"
   ]
  },
  {
   "cell_type": "code",
   "execution_count": 57,
   "metadata": {},
   "outputs": [
    {
     "name": "stdout",
     "output_type": "stream",
     "text": [
      "2\n",
      "(2, 1000)\n",
      "(1000,)\n",
      "_coefffs shape: (10, 1)\n",
      "[[ 5.00000000e-01]\n",
      " [-9.00000000e+00]\n",
      " [ 5.21804822e-15]\n",
      " [ 1.55431223e-15]\n",
      " [ 6.66133815e-16]\n",
      " [ 5.00000000e-01]\n",
      " [-3.00000000e+00]\n",
      " [ 1.05471187e-15]\n",
      " [ 2.22044605e-16]\n",
      " [ 8.88178420e-16]]\n",
      "1\n",
      "[ 1.55431223e-15  3.33066907e-15  1.49880108e-15  1.55431223e-15\n",
      "  6.66133815e-16 -3.00000000e+00  1.05471187e-15  5.00000000e-01\n",
      "  2.22044605e-16  8.88178420e-16]\n",
      "['A', '__abs__', '__add__', '__array_priority__', '__call__', '__class__', '__contains__', '__delattr__', '__dict__', '__dir__', '__div__', '__doc__', '__eq__', '__floordiv__', '__format__', '__ge__', '__getattribute__', '__getitem__', '__gt__', '__hash__', '__init__', '__init_subclass__', '__iter__', '__le__', '__len__', '__lt__', '__module__', '__mul__', '__ne__', '__neg__', '__new__', '__nonzero__', '__pos__', '__pow__', '__radd__', '__reduce__', '__reduce_ex__', '__repr__', '__rmul__', '__rsub__', '__setattr__', '__sizeof__', '__str__', '__sub__', '__subclasshook__', '__truediv__', '__weakref__', 'coeffs', 'copy', 'dim', 'dtype', 'keys', 'shape']\n"
     ]
    }
   ],
   "source": [
    "x = np.array([np.linspace(0,10,100),np.linspace(0,10,100)])\n",
    "dist_x = cp.J(cp.Normal(0,1),cp.Normal(0,1))\n",
    "dist_zeta = cp.J(cp.Normal(),cp.Normal())\n",
    "\n",
    "orthPoly = cp.orth_ttr(3, dist_x)\n",
    "print(orthPoly.dim)\n",
    "\n",
    "# # Monte Carlo simulaiton\n",
    "\n",
    "samples = dist_x.sample(1000, 'H')\n",
    "print(samples.shape)\n",
    "# evals = [foo(sample) for sample in samples.T]\n",
    "evals = foo(samples)\n",
    "# print(np.array(foo(coord, [0.5,0.5])).shape)\n",
    "print(np.array(evals).shape)\n",
    "# expected = np.mean(evals,0)\n",
    "# deviation = np.std(evals,0)\n",
    "\n",
    "# # Point Collocation method\n",
    "\n",
    "# foo_hat = cp.fit_regression(orthPoly, samples, evals)\n",
    "foo_hat, _coefffs = cp.fit_regression(orthPoly, samples, evals, retall=True)\n",
    "print('_coefffs shape: {}'.format(_coefffs.shape))\n",
    "print(_coefffs)\n",
    "print(len(foo_hat))\n",
    "print(foo_hat.coeffs())\n",
    "print(dir(foo_hat))"
   ]
  },
  {
   "cell_type": "code",
   "execution_count": 14,
   "metadata": {},
   "outputs": [
    {
     "name": "stdout",
     "output_type": "stream",
     "text": [
      "(2,)\n"
     ]
    }
   ],
   "source": [
    "doe_samples = np.array([x,w])\n",
    "print(doe_samples.shape)"
   ]
  },
  {
   "cell_type": "code",
   "execution_count": 15,
   "metadata": {},
   "outputs": [
    {
     "name": "stdout",
     "output_type": "stream",
     "text": [
      "1, 2, 3, 4\n"
     ]
    }
   ],
   "source": [
    "numList = ['1', '2', '3', '4']\n",
    "seperator = ', '\n",
    "print(seperator.join(numList))"
   ]
  },
  {
   "cell_type": "code",
   "execution_count": null,
   "metadata": {},
   "outputs": [],
   "source": []
  }
 ],
 "metadata": {
  "kernelspec": {
   "display_name": "Python 3",
   "language": "python",
   "name": "python3"
  },
  "language_info": {
   "codemirror_mode": {
    "name": "ipython",
    "version": 3
   },
   "file_extension": ".py",
   "mimetype": "text/x-python",
   "name": "python",
   "nbconvert_exporter": "python",
   "pygments_lexer": "ipython3",
   "version": "3.7.4"
  }
 },
 "nbformat": 4,
 "nbformat_minor": 2
}
