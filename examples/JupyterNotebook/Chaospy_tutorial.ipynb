{
 "cells": [
  {
   "cell_type": "code",
   "execution_count": 1,
   "metadata": {},
   "outputs": [],
   "source": [
    "%matplotlib notebook\n",
    "import chaospy as cp\n",
    "import numpy as np\n",
    "import matplotlib.pyplot as plt\n",
    "from mpl_toolkits.mplot3d import Axes3D\n",
    "from matplotlib import cm\n",
    "from numpy import linalg as LA\n",
    "import pandas as pd\n",
    "import seaborn as sns\n",
    "import itertools\n"
   ]
  },
  {
   "cell_type": "code",
   "execution_count": 2,
   "metadata": {},
   "outputs": [],
   "source": [
    "def foo2(coord, param):\n",
    "    return param[0] * np.e ** (-param[1] * coord)\n",
    "def foo1(coord, param):\n",
    "    return param * np.e ** (-param * coord)"
   ]
  },
  {
   "cell_type": "code",
   "execution_count": 17,
   "metadata": {},
   "outputs": [],
   "source": [
    "coord = np.linspace(0,10,100)\n",
    "dist = cp.J(cp.Uniform(1,2), cp.Uniform(1,2))\n",
    "# dist = cp.Uniform(1,2)\n",
    "dist_normal = cp.Normal(0,1)\n",
    "dist_gamma = cp.Gamma()\n"
   ]
  },
  {
   "cell_type": "code",
   "execution_count": 20,
   "metadata": {},
   "outputs": [
    {
     "name": "stdout",
     "output_type": "stream",
     "text": [
      "['__add__', '__array_priority__', '__class__', '__delattr__', '__dict__', '__dir__', '__div__', '__doc__', '__eq__', '__floordiv__', '__format__', '__ge__', '__getattribute__', '__gt__', '__hash__', '__init__', '__init_subclass__', '__le__', '__len__', '__lt__', '__module__', '__mul__', '__ne__', '__neg__', '__new__', '__pow__', '__radd__', '__rdiv__', '__reduce__', '__reduce_ex__', '__repr__', '__rfloordiv__', '__rmul__', '__rpow__', '__rsub__', '__rtruediv__', '__setattr__', '__sizeof__', '__str__', '__sub__', '__subclasshook__', '__truediv__', '__weakref__', '_bnd', '_cdf', '_dep', '_mom', '_pdf', '_ppf', '_str', '_ttr', 'addattr', 'advance', 'cdf', 'dependencies', 'dependent', 'fwd', 'graph', 'inv', 'length', 'mom', 'pdf', 'prm', 'range', 'sample', 'ttr']\n"
     ]
    }
   ],
   "source": [
    "print(dir(dist_gamma))\n",
    "print(dist_gamma.)"
   ]
  },
  {
   "cell_type": "code",
   "execution_count": 16,
   "metadata": {},
   "outputs": [
    {
     "name": "stdout",
     "output_type": "stream",
     "text": [
      "[[-7.5  0.   7.5]] [0.16666667 0.66666667 0.16666667]\n",
      "[-1.73205081  0.          1.73205081] [0.41777138 1.67108552 0.41777138]\n",
      "[-1.22474487  0.          1.22474487] [0.29540898 1.1816359  0.29540898]\n"
     ]
    }
   ],
   "source": [
    "# x,w = cp.generate_quadrature(2,dist_normal)\n",
    "# print(x,w)\n",
    "coord1d, weight1d = cp.generate_quadrature(2,dist_normal)\n",
    "print(coord1d, weight1d)\n",
    "coord1d, weight1d = np.polynomial.hermite_e.hermegauss(3)  # “Probabilists’\"\n",
    "print(coord1d, weight1d)\n",
    "coord1d, weight1d = np.polynomial.hermite.hermgauss(3) \n",
    "print(coord1d, weight1d)"
   ]
  },
  {
   "cell_type": "code",
   "execution_count": 39,
   "metadata": {},
   "outputs": [
    {
     "name": "stdout",
     "output_type": "stream",
     "text": [
      "[[0 1 2]\n",
      " [3 4 5]\n",
      " [6 7 8]]\n",
      "(3, 3)\n",
      "[0 1 2]\n",
      "[3 4 5]\n",
      "[6 7 8]\n"
     ]
    }
   ],
   "source": [
    "a = np.arange(9).reshape((3,3))\n",
    "print(a)\n",
    "print(a.shape)\n",
    "for ia in a:\n",
    "    print(ia)"
   ]
  },
  {
   "cell_type": "code",
   "execution_count": 27,
   "metadata": {
    "scrolled": false
   },
   "outputs": [
    {
     "name": "stdout",
     "output_type": "stream",
     "text": [
      "2\n",
      "10\n",
      "samples shape:(2, 1000)\n",
      "(1000, 100)\n",
      "_coefffs shape: (10, 3)\n",
      "len(foo_hat): 3\n",
      "[0.01q0q1^2-0.023q1^3-0.035q0q1+0.105q1^2+0.03q0-0.154q1+0.074, 0.009q0q1^2-0.022q1^3-0.032q0q1+0.097q1^2+0.027q0-0.143q1+0.068, 0.008q0q1^2-0.02q1^3-0.029q0q1+0.09q1^2+0.024q0-0.132q1+0.063]\n",
      "foo_hat0.dim = 2\n",
      "[[0.00060844 0.0005146  0.00043438]\n",
      " [0.00031415 0.00027439 0.00024035]\n",
      " [0.00295548 0.0026177  0.00231871]\n",
      " ...\n",
      " [0.00034483 0.00029355 0.00025016]\n",
      " [0.00473041 0.00423099 0.00378455]\n",
      " [0.00101559 0.00086433 0.00073466]]\n",
      "[0.0, 0.0, 0.0]\n",
      "y.shape = (1000, 3)\n",
      "[[0.00060844 0.0005146  0.00043438]\n",
      " [0.00031415 0.00027439 0.00024035]\n",
      " [0.00295548 0.0026177  0.00231871]\n",
      " ...\n",
      " [0.00034483 0.00029355 0.00025016]\n",
      " [0.00473041 0.00423099 0.00378455]\n",
      " [0.00101559 0.00086433 0.00073466]]\n",
      "[[0.00060844 0.00031415 0.00295548 ... 0.00034483 0.00473041 0.00101559]\n",
      " [0.0005146  0.00027439 0.0026177  ... 0.00029355 0.00423099 0.00086433]\n",
      " [0.00043438 0.00024035 0.00231871 ... 0.00025016 0.00378455 0.00073466]]\n"
     ]
    }
   ],
   "source": [
    "# samples = dist.sample(50)\n",
    "# evals = np.array([foo(coord, sample) for sample in samples.T]).T\n",
    "# plt.plot(coord, evals)\n",
    "# plt.show()\n",
    "# evals = [foo(coord, sample) for sample in samples.T]\n",
    "\n",
    "orthPoly = cp.orth_ttr(3, dist)\n",
    "print(orthPoly.dim)\n",
    "print(len(orthPoly))\n",
    "\n",
    "# # Monte Carlo simulaiton\n",
    "\n",
    "samples = dist.sample(1000, 'H')\n",
    "print('{}:{}'.format('samples shape',samples.shape))\n",
    "evals = np.array([foo2(coord, sample) for sample in samples.T])\n",
    "# print(np.array(foo(coord, [0.5,0.5])).shape)\n",
    "print(evals.shape)\n",
    "# expected = np.mean(evals,0)\n",
    "# deviation = np.std(evals,0)\n",
    "\n",
    "# # Point Collocation method\n",
    "\n",
    "# foo_hat = cp.fit_regression(orthPoly, samples, evals)\n",
    "foo_hat, _coefffs = cp.fit_regression(orthPoly, samples, evals[:,50:53], retall=True)\n",
    "print('_coefffs shape: {}'.format(_coefffs.shape))\n",
    "print('len(foo_hat): {}'.format(len(foo_hat)))\n",
    "# print(_coefffs[:,0])\n",
    "# print(len(foo_hat[0]))\n",
    "# print(foo_hat[0].coeffs(),'\\n',foo_hat[1].coeffs())\n",
    "# print(dir(foo_hat[0]))\n",
    "# print('_coefffs:{}'.format(_coefffs))\n",
    "# print('coeffs:\\n{}'.format(foo_hat.coeffs()))\n",
    "# print('dim:\\n{}'.format(foo_hat.dim))\n",
    "# print('keys:\\n{}'.format(foo_hat.keys))\n",
    "# print('shape:\\n{}'.format(foo_hat.shape))\n",
    "# print(len(foo_hat))\n",
    "foo_hat0 = foo_hat\n",
    "\n",
    "print(cp.around(foo_hat0, 3))\n",
    "\n",
    "print('foo_hat0.dim = {}'.format(foo_hat0.dim))\n",
    "y = np.array([foo_hat(*isample) for isample in samples.T])\n",
    "print(y)\n",
    "print(cp.around((foo_hat0())))\n",
    "\n",
    "y = foo_hat0(samples.T)\n",
    "y = np.array([foo_hat0(*isample) for isample in samples.T])\n",
    "print('y.shape = {}'.format(y.shape))\n",
    "print(y)\n",
    "\n",
    "# print(samples.shape)\n",
    "y = foo_hat(*samples)\n",
    "print(y)\n",
    "\n",
    "## how to print coeffs\n",
    "\n",
    "# # Pseudo-spectral Projection\n",
    "\n",
    "# x,w = cp.generate_quadrature(8,dist,rule='C')\n",
    "# evals = [foo(coord, val) for val in x.T]\n",
    "# # foo_hat = cp.fit_quadrature(orthPoly, x, w, evals)\n",
    "\n",
    "# print(x.shape)\n",
    "# print(w.shape)\n",
    "# print(np.asarray(evals).shape)\n",
    "# y_hat = foo_hat(*samples)\n",
    "# print(y_hat.shape)\n",
    "\n",
    "\n",
    "# cp.seed(1000)\n",
    "# dist = cp.Normal()\n",
    "# x = cp.variable(1)\n",
    "# poly = cp.Poly([x,x**2])\n",
    "# print(poly)\n",
    "# qoi_dist = cp.QoI_Dist(poly, dist)\n"
   ]
  },
  {
   "cell_type": "code",
   "execution_count": 56,
   "metadata": {},
   "outputs": [],
   "source": [
    "def foo(x):\n",
    "    return 0.5*x[0] **2 - 3*x[1] **3"
   ]
  },
  {
   "cell_type": "code",
   "execution_count": 57,
   "metadata": {},
   "outputs": [
    {
     "name": "stdout",
     "output_type": "stream",
     "text": [
      "2\n",
      "(2, 1000)\n",
      "(1000,)\n",
      "_coefffs shape: (10, 1)\n",
      "[[ 5.00000000e-01]\n",
      " [-9.00000000e+00]\n",
      " [ 5.21804822e-15]\n",
      " [ 1.55431223e-15]\n",
      " [ 6.66133815e-16]\n",
      " [ 5.00000000e-01]\n",
      " [-3.00000000e+00]\n",
      " [ 1.05471187e-15]\n",
      " [ 2.22044605e-16]\n",
      " [ 8.88178420e-16]]\n",
      "1\n",
      "[ 1.55431223e-15  3.33066907e-15  1.49880108e-15  1.55431223e-15\n",
      "  6.66133815e-16 -3.00000000e+00  1.05471187e-15  5.00000000e-01\n",
      "  2.22044605e-16  8.88178420e-16]\n",
      "['A', '__abs__', '__add__', '__array_priority__', '__call__', '__class__', '__contains__', '__delattr__', '__dict__', '__dir__', '__div__', '__doc__', '__eq__', '__floordiv__', '__format__', '__ge__', '__getattribute__', '__getitem__', '__gt__', '__hash__', '__init__', '__init_subclass__', '__iter__', '__le__', '__len__', '__lt__', '__module__', '__mul__', '__ne__', '__neg__', '__new__', '__nonzero__', '__pos__', '__pow__', '__radd__', '__reduce__', '__reduce_ex__', '__repr__', '__rmul__', '__rsub__', '__setattr__', '__sizeof__', '__str__', '__sub__', '__subclasshook__', '__truediv__', '__weakref__', 'coeffs', 'copy', 'dim', 'dtype', 'keys', 'shape']\n"
     ]
    }
   ],
   "source": [
    "x = np.array([np.linspace(0,10,100),np.linspace(0,10,100)])\n",
    "dist_x = cp.J(cp.Normal(0,1),cp.Normal(0,1))\n",
    "dist_zeta = cp.J(cp.Normal(),cp.Normal())\n",
    "\n",
    "orthPoly = cp.orth_ttr(3, dist_x)\n",
    "print(orthPoly.dim)\n",
    "\n",
    "# # Monte Carlo simulaiton\n",
    "\n",
    "samples = dist_x.sample(1000, 'H')\n",
    "print(samples.shape)\n",
    "# evals = [foo(sample) for sample in samples.T]\n",
    "evals = foo(samples)\n",
    "# print(np.array(foo(coord, [0.5,0.5])).shape)\n",
    "print(np.array(evals).shape)\n",
    "# expected = np.mean(evals,0)\n",
    "# deviation = np.std(evals,0)\n",
    "\n",
    "# # Point Collocation method\n",
    "\n",
    "# foo_hat = cp.fit_regression(orthPoly, samples, evals)\n",
    "foo_hat, _coefffs = cp.fit_regression(orthPoly, samples, evals, retall=True)\n",
    "print('_coefffs shape: {}'.format(_coefffs.shape))\n",
    "print(_coefffs)\n",
    "print(len(foo_hat))\n",
    "print(foo_hat.coeffs())\n",
    "print(dir(foo_hat))"
   ]
  },
  {
   "cell_type": "code",
   "execution_count": 14,
   "metadata": {},
   "outputs": [
    {
     "name": "stdout",
     "output_type": "stream",
     "text": [
      "(2,)\n"
     ]
    }
   ],
   "source": [
    "doe_samples = np.array([x,w])\n",
    "print(doe_samples.shape)"
   ]
  },
  {
   "cell_type": "code",
   "execution_count": 15,
   "metadata": {},
   "outputs": [
    {
     "name": "stdout",
     "output_type": "stream",
     "text": [
      "1, 2, 3, 4\n"
     ]
    }
   ],
   "source": [
    "numList = ['1', '2', '3', '4']\n",
    "seperator = ', '\n",
    "print(seperator.join(numList))"
   ]
  },
  {
   "cell_type": "code",
   "execution_count": null,
   "metadata": {},
   "outputs": [],
   "source": []
  }
 ],
 "metadata": {
  "kernelspec": {
   "display_name": "Python 3",
   "language": "python",
   "name": "python3"
  },
  "language_info": {
   "codemirror_mode": {
    "name": "ipython",
    "version": 3
   },
   "file_extension": ".py",
   "mimetype": "text/x-python",
   "name": "python",
   "nbconvert_exporter": "python",
   "pygments_lexer": "ipython3",
   "version": "3.7.4"
  }
 },
 "nbformat": 4,
 "nbformat_minor": 2
}
