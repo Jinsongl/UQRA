{
 "cells": [
  {
   "cell_type": "code",
   "execution_count": 2,
   "metadata": {},
   "outputs": [],
   "source": [
    "import numpy as np\n",
    "import pandas as pd\n",
    "\n",
    "from copulas.multivariate.gaussian import GaussianMultivariate\n",
    "from examples import utils"
   ]
  },
  {
   "cell_type": "markdown",
   "metadata": {},
   "source": [
    "## Get datasets from S3 Bucket"
   ]
  },
  {
   "cell_type": "code",
   "execution_count": 3,
   "metadata": {},
   "outputs": [],
   "source": [
    "BUCKET = 'copulas-data-store'"
   ]
  },
  {
   "cell_type": "code",
   "execution_count": 4,
   "metadata": {},
   "outputs": [],
   "source": [
    "datasets = utils.get_datasets(BUCKET, limit=10)"
   ]
  },
  {
   "cell_type": "markdown",
   "metadata": {},
   "source": [
    "## Try to sample them and get an overview of the performance"
   ]
  },
  {
   "cell_type": "code",
   "execution_count": 5,
   "metadata": {},
   "outputs": [],
   "source": [
    "results = []\n",
    "\n",
    "for dataset, data in datasets.items():\n",
    "    copula = GaussianMultivariate()\n",
    "    copula.fit(data)\n",
    "    sampled = copula.sample(len(data))\n",
    "    \n",
    "    data_means = data.mean(axis=0)\n",
    "    data_stds = data.std(axis=0)\n",
    "    sampled_means = sampled.mean(axis=0)\n",
    "    sampled_stds = sampled.std(axis=0)\n",
    "    \n",
    "    results.append({\n",
    "        'dataset': dataset,\n",
    "        'data_means': data.mean(axis=0).mean(),\n",
    "        'data_stds': data.std(axis=0).mean(),\n",
    "        'sample_means': sampled.mean(axis=0).mean(),\n",
    "        'sample_stds': sampled.std(axis=0).mean(),\n",
    "    })\n",
    "    \n",
    "results = pd.DataFrame(results)[['dataset', 'data_means', 'sample_means', 'data_stds', 'sample_stds']]"
   ]
  },
  {
   "cell_type": "code",
   "execution_count": 6,
   "metadata": {},
   "outputs": [
    {
     "data": {
      "text/html": [
       "<div>\n",
       "<style scoped>\n",
       "    .dataframe tbody tr th:only-of-type {\n",
       "        vertical-align: middle;\n",
       "    }\n",
       "\n",
       "    .dataframe tbody tr th {\n",
       "        vertical-align: top;\n",
       "    }\n",
       "\n",
       "    .dataframe thead th {\n",
       "        text-align: right;\n",
       "    }\n",
       "</style>\n",
       "<table border=\"1\" class=\"dataframe\">\n",
       "  <thead>\n",
       "    <tr style=\"text-align: right;\">\n",
       "      <th></th>\n",
       "      <th>dataset</th>\n",
       "      <th>data_means</th>\n",
       "      <th>sample_means</th>\n",
       "      <th>data_stds</th>\n",
       "      <th>sample_stds</th>\n",
       "    </tr>\n",
       "  </thead>\n",
       "  <tbody>\n",
       "    <tr>\n",
       "      <th>0</th>\n",
       "      <td>Australian_1_test.csv</td>\n",
       "      <td>-0.594275</td>\n",
       "      <td>-0.598096</td>\n",
       "      <td>0.288534</td>\n",
       "      <td>0.287961</td>\n",
       "    </tr>\n",
       "    <tr>\n",
       "      <th>1</th>\n",
       "      <td>Australian_1_train.csv</td>\n",
       "      <td>-0.600419</td>\n",
       "      <td>-0.602164</td>\n",
       "      <td>0.310040</td>\n",
       "      <td>0.298619</td>\n",
       "    </tr>\n",
       "    <tr>\n",
       "      <th>2</th>\n",
       "      <td>CostaMadre1_1_test.csv</td>\n",
       "      <td>4506.242945</td>\n",
       "      <td>2114.223588</td>\n",
       "      <td>17770.300999</td>\n",
       "      <td>6055.010622</td>\n",
       "    </tr>\n",
       "    <tr>\n",
       "      <th>3</th>\n",
       "      <td>CostaMadre1_1_train.csv</td>\n",
       "      <td>2578.485939</td>\n",
       "      <td>3503.869146</td>\n",
       "      <td>5190.251691</td>\n",
       "      <td>4754.543243</td>\n",
       "    </tr>\n",
       "    <tr>\n",
       "      <th>4</th>\n",
       "      <td>ar5_1_test.csv</td>\n",
       "      <td>3069.279155</td>\n",
       "      <td>4552.556963</td>\n",
       "      <td>6007.283830</td>\n",
       "      <td>3196.790857</td>\n",
       "    </tr>\n",
       "    <tr>\n",
       "      <th>5</th>\n",
       "      <td>ar5_1_train.csv</td>\n",
       "      <td>3766.843618</td>\n",
       "      <td>1706.139500</td>\n",
       "      <td>7031.648178</td>\n",
       "      <td>5866.953647</td>\n",
       "    </tr>\n",
       "    <tr>\n",
       "      <th>6</th>\n",
       "      <td>boston_1_test.csv</td>\n",
       "      <td>49.598899</td>\n",
       "      <td>49.469396</td>\n",
       "      <td>16.459845</td>\n",
       "      <td>15.194686</td>\n",
       "    </tr>\n",
       "    <tr>\n",
       "      <th>7</th>\n",
       "      <td>boston_1_train.csv</td>\n",
       "      <td>49.186788</td>\n",
       "      <td>49.170520</td>\n",
       "      <td>17.261923</td>\n",
       "      <td>17.455992</td>\n",
       "    </tr>\n",
       "    <tr>\n",
       "      <th>8</th>\n",
       "      <td>chscase_census4_1_test.csv</td>\n",
       "      <td>18.567858</td>\n",
       "      <td>18.217785</td>\n",
       "      <td>5.295511</td>\n",
       "      <td>5.415083</td>\n",
       "    </tr>\n",
       "    <tr>\n",
       "      <th>9</th>\n",
       "      <td>chscase_census4_1_train.csv</td>\n",
       "      <td>17.941049</td>\n",
       "      <td>17.864123</td>\n",
       "      <td>4.379584</td>\n",
       "      <td>4.354692</td>\n",
       "    </tr>\n",
       "  </tbody>\n",
       "</table>\n",
       "</div>"
      ],
      "text/plain": [
       "                       dataset   data_means  sample_means     data_stds  \\\n",
       "0        Australian_1_test.csv    -0.594275     -0.598096      0.288534   \n",
       "1       Australian_1_train.csv    -0.600419     -0.602164      0.310040   \n",
       "2       CostaMadre1_1_test.csv  4506.242945   2114.223588  17770.300999   \n",
       "3      CostaMadre1_1_train.csv  2578.485939   3503.869146   5190.251691   \n",
       "4               ar5_1_test.csv  3069.279155   4552.556963   6007.283830   \n",
       "5              ar5_1_train.csv  3766.843618   1706.139500   7031.648178   \n",
       "6            boston_1_test.csv    49.598899     49.469396     16.459845   \n",
       "7           boston_1_train.csv    49.186788     49.170520     17.261923   \n",
       "8   chscase_census4_1_test.csv    18.567858     18.217785      5.295511   \n",
       "9  chscase_census4_1_train.csv    17.941049     17.864123      4.379584   \n",
       "\n",
       "   sample_stds  \n",
       "0     0.287961  \n",
       "1     0.298619  \n",
       "2  6055.010622  \n",
       "3  4754.543243  \n",
       "4  3196.790857  \n",
       "5  5866.953647  \n",
       "6    15.194686  \n",
       "7    17.455992  \n",
       "8     5.415083  \n",
       "9     4.354692  "
      ]
     },
     "execution_count": 6,
     "metadata": {},
     "output_type": "execute_result"
    }
   ],
   "source": [
    "results"
   ]
  },
  {
   "cell_type": "markdown",
   "metadata": {},
   "source": [
    "## See the details on an individual column"
   ]
  },
  {
   "cell_type": "code",
   "execution_count": 7,
   "metadata": {},
   "outputs": [],
   "source": [
    "from copulas.univariate import GaussianUnivariate"
   ]
  },
  {
   "cell_type": "code",
   "execution_count": 17,
   "metadata": {},
   "outputs": [
    {
     "data": {
      "text/plain": [
       "<matplotlib.axes._subplots.AxesSubplot at 0x7f13c21bf390>"
      ]
     },
     "execution_count": 17,
     "metadata": {},
     "output_type": "execute_result"
    },
    {
     "data": {
      "image/png": "[encoded data removed]",
      "text/plain": [
       "<Figure size 1296x864 with 1 Axes>"
      ]
     },
     "metadata": {},
     "output_type": "display_data"
    }
   ],
   "source": [
    "data = list(datasets.values())[0][0]\n",
    "\n",
    "copula = GaussianUnivariate()\n",
    "copula.fit(data)\n",
    "\n",
    "sampled = pd.Series(copula.sample(len(data)))\n",
    "\n",
    "data.hist(\n",
    "    bins=25,\n",
    "    figsize=(18,12),\n",
    "    weights=np.zeros_like(data) + 1. / data.size,\n",
    "    alpha=0.5\n",
    ")\n",
    "sampled.hist(\n",
    "    bins=25,\n",
    "    figsize=(18,12),\n",
    "    weights=np.zeros_like(sampled) + 1. / sampled.size,\n",
    "    alpha=0.5\n",
    ")"
   ]
  }
 ],
 "metadata": {
  "kernelspec": {
   "display_name": "Python 3",
   "language": "python",
   "name": "python3"
  },
  "language_info": {
   "codemirror_mode": {
    "name": "ipython",
    "version": 3
   },
   "file_extension": ".py",
   "mimetype": "text/x-python",
   "name": "python",
   "nbconvert_exporter": "python",
   "pygments_lexer": "ipython3",
   "version": "3.6.6"
  }
 },
 "nbformat": 4,
 "nbformat_minor": 2
}
